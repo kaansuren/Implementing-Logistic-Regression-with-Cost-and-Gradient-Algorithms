{
  "nbformat": 4,
  "nbformat_minor": 0,
  "metadata": {
    "colab": {
      "provenance": []
    },
    "kernelspec": {
      "name": "python3",
      "display_name": "Python 3"
    },
    "language_info": {
      "name": "python"
    }
  },
  "cells": [
    {
      "cell_type": "code",
      "execution_count": 49,
      "metadata": {
        "id": "QQD3WcYxVRB6"
      },
      "outputs": [],
      "source": [
        "import numpy as np\n",
        "import matplotlib.pyplot as plt\n",
        "import math"
      ]
    },
    {
      "cell_type": "code",
      "source": [
        "def sigmoid(z):\n",
        "  g = 1/(1+np.exp(-z))\n",
        "  return g"
      ],
      "metadata": {
        "id": "rx5dgSkbVWOb"
      },
      "execution_count": 40,
      "outputs": []
    },
    {
      "cell_type": "code",
      "source": [
        "z = np.arange(-10,10)\n",
        "y = sigmoid(z)\n",
        "print(np.c_[z, y])"
      ],
      "metadata": {
        "colab": {
          "base_uri": "https://localhost:8080/"
        },
        "id": "_SCqbEGcVl25",
        "outputId": "e9d8b551-6acc-4255-aba8-b7a852763e69"
      },
      "execution_count": 41,
      "outputs": [
        {
          "output_type": "stream",
          "name": "stdout",
          "text": [
            "[[-1.00000000e+01  4.53978687e-05]\n",
            " [-9.00000000e+00  1.23394576e-04]\n",
            " [-8.00000000e+00  3.35350130e-04]\n",
            " [-7.00000000e+00  9.11051194e-04]\n",
            " [-6.00000000e+00  2.47262316e-03]\n",
            " [-5.00000000e+00  6.69285092e-03]\n",
            " [-4.00000000e+00  1.79862100e-02]\n",
            " [-3.00000000e+00  4.74258732e-02]\n",
            " [-2.00000000e+00  1.19202922e-01]\n",
            " [-1.00000000e+00  2.68941421e-01]\n",
            " [ 0.00000000e+00  5.00000000e-01]\n",
            " [ 1.00000000e+00  7.31058579e-01]\n",
            " [ 2.00000000e+00  8.80797078e-01]\n",
            " [ 3.00000000e+00  9.52574127e-01]\n",
            " [ 4.00000000e+00  9.82013790e-01]\n",
            " [ 5.00000000e+00  9.93307149e-01]\n",
            " [ 6.00000000e+00  9.97527377e-01]\n",
            " [ 7.00000000e+00  9.99088949e-01]\n",
            " [ 8.00000000e+00  9.99664650e-01]\n",
            " [ 9.00000000e+00  9.99876605e-01]]\n"
          ]
        }
      ]
    },
    {
      "cell_type": "code",
      "source": [
        "fig, ax = plt.subplots(1,1, figsize=(5,3))\n",
        "ax.plot(z, y)\n",
        "ax.set_ylabel(\"Sigmoid(z)\")\n",
        "ax.set_xlabel(\"z\")"
      ],
      "metadata": {
        "colab": {
          "base_uri": "https://localhost:8080/",
          "height": 242
        },
        "id": "KGs6GAQOVv45",
        "outputId": "f85acd09-be46-4c2b-f886-22b84661e91c"
      },
      "execution_count": 42,
      "outputs": [
        {
          "output_type": "execute_result",
          "data": {
            "text/plain": [
              "Text(0.5, 0, 'z')"
            ]
          },
          "metadata": {},
          "execution_count": 42
        },
        {
          "output_type": "display_data",
          "data": {
            "text/plain": [
              "<Figure size 360x216 with 1 Axes>"
            ],
            "image/png": "[encoded data removed]"
          },
          "metadata": {
            "needs_background": "light"
          }
        }
      ]
    },
    {
      "cell_type": "code",
      "source": [
        "x_train = np.array([[0.5, 1.5], [1,1], [1.5, 0.5], [3, 0.5], [2, 2], [1, 2.5]])  #(m,n)\n",
        "y_train = np.array([0, 0, 0, 1, 1, 1])   "
      ],
      "metadata": {
        "id": "dQZgg9ZuWMLI"
      },
      "execution_count": 43,
      "outputs": []
    },
    {
      "cell_type": "code",
      "source": [
        "def compute_cost_logistic(x, y, w, b):\n",
        "  m = x.shape[0]\n",
        "  cost = 0.0\n",
        "  for i in range(m):\n",
        "    z_i = np.dot(w,x[i])+b\n",
        "    f_wb_i = sigmoid(z_i)\n",
        "    cost += -y[i]*np.log(f_wb_i) - (1-y[i])*np.log(1-f_wb_i)\n",
        "  cost = cost / m\n",
        "  return cost"
      ],
      "metadata": {
        "id": "d4PXO-dGWkNo"
      },
      "execution_count": 44,
      "outputs": []
    },
    {
      "cell_type": "code",
      "source": [
        "w_tmp = np.array([1,1])\n",
        "b_tmp = -3\n",
        "print(compute_cost_logistic(x_train, y_train, w_tmp, b_tmp))"
      ],
      "metadata": {
        "colab": {
          "base_uri": "https://localhost:8080/"
        },
        "id": "5QLFcDW7X8kN",
        "outputId": "9d06cc57-2939-4518-b1fa-0d9a13647647"
      },
      "execution_count": 46,
      "outputs": [
        {
          "output_type": "stream",
          "name": "stdout",
          "text": [
            "0.36686678640551745\n"
          ]
        }
      ]
    },
    {
      "cell_type": "code",
      "source": [
        "def compute_gradient_logistic(x,y,w,b):\n",
        "  m,n = x.shape\n",
        "  dj_dw = 0\n",
        "  dj_db = 0\n",
        "\n",
        "  for i in range(m):\n",
        "    z = np.dot(x[i], w) + b\n",
        "    f_wb_i = sigmoid(z)\n",
        "    error = f_wb_i - y[i]\n",
        "    for j in range(n):\n",
        "      dj_dw = dj_dw + error * x[i,j]\n",
        "    dj_db = dj_db + error\n",
        "  dj_dw = dj_dw / m\n",
        "  dj_db = dj_db / m\n",
        "  return dj_dw, dj_db"
      ],
      "metadata": {
        "id": "rm_Xy3pzYVnc"
      },
      "execution_count": 47,
      "outputs": []
    },
    {
      "cell_type": "code",
      "source": [
        "def gradient_descent(x,y,w_in,b_in,alpha, num_iter):\n",
        "  J_hist=[]\n",
        "  w = w_in\n",
        "  b= b_in\n",
        "\n",
        "  for i in range(num_iter):\n",
        "    dj_dw, dj_db = compute_gradient_logistic(x,y,w,b)\n",
        "    \n",
        "    w = w - alpha * dj_dw\n",
        "    b = b - alpha * dj_db\n",
        "\n",
        "    if i < 10000:\n",
        "      J_hist.append(compute_cost_logistic(x,y,w,b))\n",
        "    if i % math.ceil(num_iter / 10) == 0:\n",
        "      print(f\"iteration {i:4d}: Cost {J_hist[-1]}  .\")\n",
        "  \n",
        "  return w, b, J_hist\n"
      ],
      "metadata": {
        "id": "VzBH4eBgafsp"
      },
      "execution_count": 50,
      "outputs": []
    },
    {
      "cell_type": "code",
      "source": [
        "w_tmp = np.zeros_like(x_train[0])\n",
        "b_tmp = 0\n",
        "alpha = 0.1\n",
        "iters = 10000\n",
        "\n",
        "w_final, b_final, J_history = gradient_descent(x_train,y_train, w_tmp, b_tmp, alpha, iters)\n",
        "print(f\"w:{w_final}, b:{b_final}\")"
      ],
      "metadata": {
        "colab": {
          "base_uri": "https://localhost:8080/"
        },
        "id": "UL2KRurAbw0M",
        "outputId": "f0f7a70c-762f-4c8c-dc92-997fa0bcfe14"
      },
      "execution_count": 53,
      "outputs": [
        {
          "output_type": "stream",
          "name": "stdout",
          "text": [
            "iteration    0: Cost 0.6776833627571452  .\n",
            "iteration 1000: Cost 0.1455531827027191  .\n",
            "iteration 2000: Cost 0.07649164019776794  .\n",
            "iteration 3000: Cost 0.05139255824162284  .\n",
            "iteration 4000: Cost 0.03858471692722778  .\n",
            "iteration 5000: Cost 0.03085004080989656  .\n",
            "iteration 6000: Cost 0.025683081110997246  .\n",
            "iteration 7000: Cost 0.02199121007117215  .\n",
            "iteration 8000: Cost 0.01922341201538782  .\n",
            "iteration 9000: Cost 0.017072197258406484  .\n",
            "w:[5.3497607 5.3497607], b:-14.648237107471077\n"
          ]
        }
      ]
    }
  ]
}